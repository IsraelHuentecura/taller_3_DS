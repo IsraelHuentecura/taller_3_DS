{
 "cells": [
  {
   "cell_type": "markdown",
   "id": "43cd5b32",
   "metadata": {},
   "source": [
    "# Tarea 01 - Numpy"
   ]
  },
  {
   "cell_type": "markdown",
   "id": "0ad7da2d",
   "metadata": {},
   "source": [
    "<h3> Completa los siguientes ejercicios. Documente su código según sea necesario. 10 puntos cada ejercicio</h3>\n",
    "<br>\n",
    "\n",
    "<ol>\n",
    "<li><font size=3> Cree un Numpy Array de 5 por 7 de números enteros aleatorios con valores entre 3 y 11 inclusive. Luego haz lo siguiente:\n",
    "     <ol> <li>Verifique el tipo de datos del array</li>\n",
    "         <li>Encuentre el máximo de todo el array</li>\n",
    "         <li>Encuentre el valor mínimo de cada fila</li>\n",
    "         <li>Encuentre el índice donde ocurre el valor mínimo de cada fila</li>\n",
    "     </ol></font></li>\n",
    "</ol>"
   ]
  },
  {
   "attachments": {},
   "cell_type": "markdown",
   "id": "d087eaff",
   "metadata": {},
   "source": [
    "### Respuestas Item 1"
   ]
  },
  {
   "cell_type": "code",
   "execution_count": 50,
   "id": "8a6ba6dd",
   "metadata": {},
   "outputs": [
    {
     "data": {
      "text/plain": [
       "array([[ 7,  6, 10,  6,  6,  8,  5],\n",
       "       [ 7,  5,  4,  9, 11,  5, 11],\n",
       "       [11,  8,  8,  9,  9,  7,  4],\n",
       "       [ 4,  4,  3,  6,  7,  8,  5],\n",
       "       [ 9,  8, 10,  4,  3,  7,  8]])"
      ]
     },
     "execution_count": 50,
     "metadata": {},
     "output_type": "execute_result"
    }
   ],
   "source": [
    "import numpy as np\n",
    "\n",
    "array = np.random.randint(low=3, high=12, size=(5,7))\n",
    "array\n"
   ]
  },
  {
   "attachments": {},
   "cell_type": "markdown",
   "id": "51cfc162",
   "metadata": {},
   "source": [
    "### 1.- Verificar el tipo de datos del array:\n"
   ]
  },
  {
   "cell_type": "code",
   "execution_count": 51,
   "id": "b80789ae",
   "metadata": {},
   "outputs": [
    {
     "data": {
      "text/plain": [
       "dtype('int32')"
      ]
     },
     "execution_count": 51,
     "metadata": {},
     "output_type": "execute_result"
    }
   ],
   "source": [
    "array.dtype\n"
   ]
  },
  {
   "attachments": {},
   "cell_type": "markdown",
   "id": "090170f2",
   "metadata": {},
   "source": [
    "### 2.- Encontrar el máximo de todo el array:\n"
   ]
  },
  {
   "cell_type": "code",
   "execution_count": 52,
   "id": "b78a63bc",
   "metadata": {},
   "outputs": [
    {
     "data": {
      "text/plain": [
       "11"
      ]
     },
     "execution_count": 52,
     "metadata": {},
     "output_type": "execute_result"
    }
   ],
   "source": [
    "np.max(array)"
   ]
  },
  {
   "attachments": {},
   "cell_type": "markdown",
   "id": "17d4efb8",
   "metadata": {},
   "source": [
    "### 3.- Encontrar el valor mínimo de cada fila:\n"
   ]
  },
  {
   "cell_type": "code",
   "execution_count": 53,
   "id": "8d41148d",
   "metadata": {},
   "outputs": [
    {
     "data": {
      "text/plain": [
       "array([5, 4, 4, 3, 3])"
      ]
     },
     "execution_count": 53,
     "metadata": {},
     "output_type": "execute_result"
    }
   ],
   "source": [
    "np.min(array, axis=1)\n",
    "\n"
   ]
  },
  {
   "attachments": {},
   "cell_type": "markdown",
   "id": "c5213ae3",
   "metadata": {},
   "source": [
    "### 4.- Encontrar el índice donde ocurre el valor mínimo de cada fila:"
   ]
  },
  {
   "cell_type": "code",
   "execution_count": 54,
   "id": "8f7b11df",
   "metadata": {},
   "outputs": [
    {
     "data": {
      "text/plain": [
       "array([6, 2, 6, 2, 4], dtype=int64)"
      ]
     },
     "execution_count": 54,
     "metadata": {},
     "output_type": "execute_result"
    }
   ],
   "source": [
    "np.argmin(array, axis=1)"
   ]
  },
  {
   "cell_type": "markdown",
   "id": "3c88eced",
   "metadata": {},
   "source": [
    "<ol start='2'>\n",
    "   \n",
    "<li> <font size='3'>Ingrese el código a continuación que genera el siguiente numpy array: </font></li>\n",
    "\n",
    "```python\n",
    "#Resultado\n",
    "array([ 4, 9, 14, 19, 24, 29, 34, 39, 44, 49, 54, 59, 64, 69, 74, 79, 84, 89, 94, 99])\n",
    "```\n",
    "</ol>"
   ]
  },
  {
   "cell_type": "code",
   "execution_count": 55,
   "id": "4b741485",
   "metadata": {},
   "outputs": [
    {
     "data": {
      "text/plain": [
       "array([ 4,  9, 14, 19, 24, 29, 34, 39, 44, 49, 54, 59, 64, 69, 74, 79, 84,\n",
       "       89, 94, 99])"
      ]
     },
     "execution_count": 55,
     "metadata": {},
     "output_type": "execute_result"
    }
   ],
   "source": [
    "array = np.arange(20) * 5 + 4\n",
    "array"
   ]
  },
  {
   "cell_type": "markdown",
   "id": "e3c4f668",
   "metadata": {},
   "source": [
    "<ol start='3'>\n",
    "   \n",
    "<li> <font size='3'>Ingrese el código a continuación que genera el siguiente numpy array: </font></li>\n",
    "\n",
    "```python\n",
    "#Result\n",
    "array([[ 4,  9, 14, 19, 24],\n",
    "       [29, 34, 39, 44, 49],\n",
    "       [54, 59, 64, 69, 74],\n",
    "       [79, 84, 89, 94, 99]])\n",
    "```    \n",
    "</ol>"
   ]
  },
  {
   "cell_type": "code",
   "execution_count": 56,
   "id": "a8c673e1",
   "metadata": {},
   "outputs": [
    {
     "data": {
      "text/plain": [
       "array([[ 4,  9, 14, 19, 24],\n",
       "       [29, 34, 39, 44, 49],\n",
       "       [54, 59, 64, 69, 74],\n",
       "       [79, 84, 89, 94, 99]])"
      ]
     },
     "execution_count": 56,
     "metadata": {},
     "output_type": "execute_result"
    }
   ],
   "source": [
    "array = np.arange(4, 100, 5).reshape(4, 5)\n",
    "array\n"
   ]
  },
  {
   "cell_type": "markdown",
   "id": "3d6430af",
   "metadata": {},
   "source": [
    "<ol start='4'>\n",
    "   \n",
    "<li> <font size='3'>Cree un numpy array de 4 por 2 por 3 con valores normalmente distribuido</font></li>\n",
    "   \n",
    "</ol>"
   ]
  },
  {
   "cell_type": "code",
   "execution_count": 57,
   "id": "ecea06e6",
   "metadata": {},
   "outputs": [
    {
     "data": {
      "text/plain": [
       "array([[[ 0.76344402, -1.52362429,  1.06885167],\n",
       "        [ 0.87947669,  1.64472039,  0.33988141]],\n",
       "\n",
       "       [[ 0.42150376,  0.30455926, -1.13934156],\n",
       "        [ 0.0248855 ,  1.45543112,  0.64177297]],\n",
       "\n",
       "       [[-0.72836002,  1.96786831, -0.78535817],\n",
       "        [-1.36688191,  0.91611357, -1.24271507]],\n",
       "\n",
       "       [[ 0.48014505, -0.38130627,  0.59193244],\n",
       "        [ 0.65198524, -2.18371012,  0.23044476]]])"
      ]
     },
     "execution_count": 57,
     "metadata": {},
     "output_type": "execute_result"
    }
   ],
   "source": [
    "array = np.random.normal(size=(4, 2, 3))\n",
    "array"
   ]
  },
  {
   "cell_type": "markdown",
   "id": "c642fc02",
   "metadata": {},
   "source": [
    "<ol start='5'>\n",
    "   \n",
    "<li> <font size='3'>Ingrese el código a continuación que genera el siguiente numpy array (incluyendo el tipo correcto de datos): </font></li>\n",
    "\n",
    "```python\n",
    "#Result\n",
    "array([[0, 0, 0, 0, 0, 0],\n",
    "       [0, 0, 0, 0, 0, 0],\n",
    "       [1, 0, 0, 0, 0, 0],\n",
    "       [0, 1, 0, 0, 0, 0],\n",
    "       [0, 0, 1, 0, 0, 0],\n",
    "       [0, 0, 0, 1, 0, 0]]\n",
    "```    \n",
    "\n",
    "</ol>"
   ]
  },
  {
   "cell_type": "code",
   "execution_count": 58,
   "id": "52ac4379",
   "metadata": {},
   "outputs": [
    {
     "data": {
      "text/plain": [
       "array([[0, 0, 0, 0, 0, 0],\n",
       "       [0, 0, 0, 0, 0, 0],\n",
       "       [1, 0, 0, 0, 0, 0],\n",
       "       [0, 1, 0, 0, 0, 0],\n",
       "       [0, 0, 1, 0, 0, 0],\n",
       "       [0, 0, 0, 1, 0, 0]])"
      ]
     },
     "execution_count": 58,
     "metadata": {},
     "output_type": "execute_result"
    }
   ],
   "source": [
    "array = np.eye(6, 6, k=-2, dtype=int)\n",
    "array"
   ]
  },
  {
   "cell_type": "markdown",
   "id": "3d509a54",
   "metadata": {},
   "source": [
    "<ol start='6'>\n",
    "   \n",
    "<li> <font size='3'>Dado el numpy array </font></li>\n",
    "\n",
    "```python\n",
    "array([ 3,  5,  7,  9, 11, 13, 15, 17, 19, 21, 23, 25, 27, 29, 31, 33])\n",
    "```    \n",
    "<ol>\n",
    "    <li>Ingrese el código que selccione sólo los últimos 4 elementos:</li>\n",
    "\n",
    "```python\n",
    "#Result\n",
    "array([27, 29, 31, 33])\n",
    "```\n",
    "<li>Ingrese el código que selecciones el siguiente subarray:\n",
    "\n",
    "```python\n",
    "#Result\n",
    "array([ 3,  9, 15, 21, 27, 33])\n",
    "```\n",
    "</ol>\n",
    "</ol>"
   ]
  },
  {
   "attachments": {},
   "cell_type": "markdown",
   "id": "c7d48db6",
   "metadata": {},
   "source": [
    "### Respuestas Item 6\n",
    "### 1.-"
   ]
  },
  {
   "cell_type": "code",
   "execution_count": 59,
   "id": "75505491",
   "metadata": {},
   "outputs": [
    {
     "data": {
      "text/plain": [
       "array([27, 29, 31, 33])"
      ]
     },
     "execution_count": 59,
     "metadata": {},
     "output_type": "execute_result"
    }
   ],
   "source": [
    "array = np.array([3, 5, 7, 9, 11, 13, 15, 17, 19, 21, 23, 25, 27, 29, 31, 33])\n",
    "ultimas_cuatro = array[-4:]\n",
    "ultimas_cuatro"
   ]
  },
  {
   "attachments": {},
   "cell_type": "markdown",
   "id": "e43ae523",
   "metadata": {},
   "source": [
    "### 2.-"
   ]
  },
  {
   "cell_type": "code",
   "execution_count": 60,
   "id": "4f5af42a",
   "metadata": {},
   "outputs": [
    {
     "data": {
      "text/plain": [
       "array([ 3,  9, 15, 21, 27, 33])"
      ]
     },
     "execution_count": 60,
     "metadata": {},
     "output_type": "execute_result"
    }
   ],
   "source": [
    "sub_arr = array[::3]\n",
    "sub_arr"
   ]
  },
  {
   "cell_type": "markdown",
   "id": "89a2de1b",
   "metadata": {},
   "source": [
    "<ol start='7'>\n",
    "   \n",
    "<li> <font size='3'>Dado el numpy array en 2D </font></li>\n",
    "\n",
    "```python\n",
    "arr_2d=np.array([[69, 75, 52, 33,  7, 62, 22],\n",
    "               [87, 51, 13, 75, 78, 46, 53],\n",
    "               [43, 24, 58, 76,  3,  3, 57],\n",
    "               [84, 86, 75, 26, 71, 77,  7],\n",
    "               [75, 17, 17, 38, 54, 72, 78]])\n",
    "```    \n",
    "<ol>\n",
    "    <li> Ingrese el código que seleccione el elemento 71 en la última fila</li>\n",
    "    <br>\n",
    "   <li> Ingrese el código que seleccione el siguiente subarray:</li>\n",
    "\n",
    "```python\n",
    "#Result\n",
    "array([[76,  3],\n",
    "       [26, 71],\n",
    "       [38, 54]])\n",
    "```\n",
    "<li>Ingrese el código que seleccione el siguiente subarray:\n",
    "\n",
    "```python\n",
    "#Result\n",
    "array([[87, 51, 13, 75, 78, 46, 53],\n",
    "       [43, 24, 58, 76,  3,  3, 57],\n",
    "       [84, 86, 75, 26, 71, 77,  7]])\n",
    "```\n",
    "</ol>\n",
    "</ol>"
   ]
  },
  {
   "attachments": {},
   "cell_type": "markdown",
   "id": "8889b579",
   "metadata": {},
   "source": [
    "### Respuestas Item 7"
   ]
  },
  {
   "attachments": {},
   "cell_type": "markdown",
   "id": "9ab9c3c4",
   "metadata": {},
   "source": [
    "### 1.-"
   ]
  },
  {
   "cell_type": "code",
   "execution_count": 61,
   "id": "361246c4",
   "metadata": {},
   "outputs": [
    {
     "data": {
      "text/plain": [
       "72"
      ]
     },
     "execution_count": 61,
     "metadata": {},
     "output_type": "execute_result"
    }
   ],
   "source": [
    "array_2d = np.array([[69, 75, 52, 33,  7, 62, 22],\n",
    "                   [87, 51, 13, 75, 78, 46, 53],\n",
    "                   [43, 24, 58, 76,  3,  3, 57],\n",
    "                   [84, 86, 75, 26, 71, 77,  7],\n",
    "                   [75, 17, 17, 38, 54, 72, 78]])\n",
    "\n",
    "elemento_selecionado = array_2d[4, 5]\n",
    "elemento_selecionado"
   ]
  },
  {
   "attachments": {},
   "cell_type": "markdown",
   "id": "10aaa9bd",
   "metadata": {},
   "source": [
    "### 2.-"
   ]
  },
  {
   "cell_type": "code",
   "execution_count": 62,
   "metadata": {},
   "outputs": [
    {
     "data": {
      "text/plain": [
       "array([[76,  3],\n",
       "       [26, 71],\n",
       "       [38, 54]])"
      ]
     },
     "execution_count": 62,
     "metadata": {},
     "output_type": "execute_result"
    }
   ],
   "source": [
    "subarr = array_2d[2:5, 3:5]\n",
    "subarr"
   ]
  },
  {
   "attachments": {},
   "cell_type": "markdown",
   "id": "3105912f",
   "metadata": {},
   "source": [
    "### 3.-"
   ]
  },
  {
   "cell_type": "code",
   "execution_count": 63,
   "id": "8f5b46f2",
   "metadata": {},
   "outputs": [
    {
     "data": {
      "text/plain": [
       "array([[87, 51, 13, 75, 78, 46, 53],\n",
       "       [43, 24, 58, 76,  3,  3, 57],\n",
       "       [84, 86, 75, 26, 71, 77,  7]])"
      ]
     },
     "execution_count": 63,
     "metadata": {},
     "output_type": "execute_result"
    }
   ],
   "source": [
    "subarr3 = array_2d[1:-1, :]\n",
    "subarr3\n"
   ]
  },
  {
   "cell_type": "markdown",
   "id": "c9676eaa",
   "metadata": {},
   "source": [
    "<ol start='8'>\n",
    "   \n",
    "<li> <font size='3'>Dado el numpy array</font></li>\n",
    "\n",
    "```python\n",
    "arr=np.arange(1,50,3)\n",
    "array([ 1,  4,  7, 10, 13, 16, 19, 22, 25, 28, 31, 34, 37, 40, 43, 46, 49])\n",
    "```    \n",
    "<ol>\n",
    "    <li>Ingrese el código que seleccione todos los elementos más grandes que 7 y menores que 43:\n",
    "\n",
    "```python\n",
    "#Result\n",
    "array([10, 13, 16, 19, 22, 25, 28, 31, 34, 37, 40])\n",
    "\n",
    "```\n",
    "   <li>Ingrese el código que selecciona todos los enteros pares más grandes que 11 y menores que 45:</li>\n",
    "\n",
    "```python\n",
    "#Result\n",
    "array([16, 22, 28, 34, 40])\n",
    "```\n",
    "</ol>\n",
    "</ol>"
   ]
  },
  {
   "attachments": {},
   "cell_type": "markdown",
   "id": "ca24f00b",
   "metadata": {},
   "source": [
    "### Respuestas Item 8\n",
    "### 1.-"
   ]
  },
  {
   "cell_type": "code",
   "execution_count": 64,
   "id": "1c6d94c3",
   "metadata": {},
   "outputs": [
    {
     "data": {
      "text/plain": [
       "array([10, 13, 16, 19, 22, 25, 28, 31, 34, 37, 40])"
      ]
     },
     "execution_count": 64,
     "metadata": {},
     "output_type": "execute_result"
    }
   ],
   "source": [
    "array=np.arange(1,50,3)\n",
    "\n",
    "array[(array > 7) & (array < 43)]\n"
   ]
  },
  {
   "attachments": {},
   "cell_type": "markdown",
   "id": "f6997ab7",
   "metadata": {},
   "source": [
    "\n",
    "### 2.-"
   ]
  },
  {
   "cell_type": "code",
   "execution_count": 65,
   "id": "ea072ac9",
   "metadata": {},
   "outputs": [
    {
     "data": {
      "text/plain": [
       "array([16, 22, 28, 34, 40])"
      ]
     },
     "execution_count": 65,
     "metadata": {},
     "output_type": "execute_result"
    }
   ],
   "source": [
    "\n",
    "array[(array > 11) & (array < 45) & (array % 2 == 0)]\n"
   ]
  },
  {
   "cell_type": "markdown",
   "id": "3fb4ffd6",
   "metadata": {},
   "source": [
    "<ol start='9'>\n",
    "   \n",
    "<li> <font size='3'>Cree un 1D array uniformemente distribuido con 20 elementos y calcule: </font></li>\n",
    "\n",
    "\n",
    "<ol>\n",
    "    <li> Media</li>\n",
    "\n",
    "   <li>Deviación estándar</li>\n",
    "   \n",
    "   <li>Mediana</li>\n",
    "   \n",
    "   <li>Media de sus valores en log</li>\n",
    "</ol>\n",
    "</ol>"
   ]
  },
  {
   "attachments": {},
   "cell_type": "markdown",
   "id": "d8658ed1",
   "metadata": {},
   "source": [
    "### Respuestas Item 9"
   ]
  },
  {
   "cell_type": "code",
   "execution_count": 66,
   "id": "dbac1b50",
   "metadata": {},
   "outputs": [
    {
     "name": "stdout",
     "output_type": "stream",
     "text": [
      "Array creado:  [0.59179777 0.72723772 0.18983567 0.53117396 0.55501618 0.56104362\n",
      " 0.46048541 0.06846712 0.73242385 0.71422901 0.69597129 0.68678024\n",
      " 0.4697959  0.51669676 0.56331305 0.34141127 0.25392106 0.53492229\n",
      " 0.27667725 0.55097147]\n",
      "\n",
      "Resultados\n",
      "\n",
      "Media: 0.50110854361726\n",
      "Desviación estándar: 0.18296859922679456\n",
      "Mediana: 0.5429468785425349\n",
      "Media de los valores en log: -0.804438243231786\n"
     ]
    }
   ],
   "source": [
    "array = np.random.uniform(size=20)\n",
    "print('Array creado: ', array)\n",
    "# Media\n",
    "mean = np.mean(array)\n",
    "\n",
    "# Desviación estándar\n",
    "std_dev = np.std(array)\n",
    "\n",
    "# Mediana\n",
    "median = np.median(array)\n",
    "\n",
    "# Media de los valores en log\n",
    "log_mean = np.mean(np.log(array))\n",
    "\n",
    "# Imprimir resultados\n",
    "print(f'\\nResultados\\n\\nMedia: {mean}\\nDesviación estándar: {std_dev}\\nMediana: {median}\\nMedia de los valores en log: {log_mean}')\n"
   ]
  },
  {
   "cell_type": "markdown",
   "id": "e1dc3942",
   "metadata": {},
   "source": [
    "<ol start='10'>\n",
    "   \n",
    "<li> <font size='3'>Escriba una función que:</font></li>\n",
    "    <ol>\n",
    "    <br>\n",
    "   <li> Tome un numpy array en 1D como input e imprima el arreglo invertido con elementos tipo flotantes</li>\n",
    "\n",
    "For ejemplo, si ingresas el siguiente array en tu función\n",
    "```python\n",
    "array([ 1,  3,  5,  7,  9, 11, 13, 15, 17, 19, 21, 23])\n",
    "```\n",
    "deberías imprimir\n",
    "\n",
    "```python\n",
    "array([23., 21., 19., 17., 15., 13., 11.,  9.,  7.,  5.,  3.,  1.])\n",
    "```\n",
    "\n",
    "<li> Tome un numpy array en 2D como input e imprima una copia del input array <b> flattened</b> a una dimensión </li>\n",
    "\n",
    "For ejemplo, si el input array es:\n",
    "```python\n",
    "array([[7, 4, 8, 3],\n",
    "       [6, 3, 4, 3],\n",
    "       [4, 7, 5, 4]])\n",
    "```\n",
    "el output de tu función debería ser\n",
    "```python\n",
    "array([7, 4, 8, 3, 6, 3, 4, 3, 4, 7, 5, 4])\n",
    "```\n",
    "</ol>\n",
    "</ol>"
   ]
  },
  {
   "attachments": {},
   "cell_type": "markdown",
   "id": "86767899",
   "metadata": {},
   "source": [
    "### Respuestas Item 10"
   ]
  },
  {
   "cell_type": "code",
   "execution_count": 67,
   "id": "3b65af3d",
   "metadata": {},
   "outputs": [],
   "source": [
    "# Función\n",
    "\n",
    "def operaciones(array):\n",
    "    '''\n",
    "    Esta función recibe un array de numpy y retorna el array invertido si es 1D o el array aplanado si es 2D\n",
    "    '''\n",
    "    if array.ndim == 1:\n",
    "        arr_decimal = array.astype(float)[::-1]\n",
    "        print(arr_decimal)\n",
    "    elif array.ndim == 2:\n",
    "        arr_aplanado = array.flatten()\n",
    "        print(list(arr_aplanado))\n",
    "    else:\n",
    "        print(\"Error: el input debe ser un array de 1D o 2D\")\n"
   ]
  },
  {
   "cell_type": "code",
   "execution_count": 68,
   "id": "5d6e5509",
   "metadata": {},
   "outputs": [
    {
     "name": "stdout",
     "output_type": "stream",
     "text": [
      "[23. 21. 19. 17. 15. 13. 11.  9.  7.  5.  3.  1.]\n"
     ]
    }
   ],
   "source": [
    "array = np.array([1, 3, 5, 7, 9, 11, 13, 15, 17, 19, 21, 23])\n",
    "operaciones(array)"
   ]
  },
  {
   "cell_type": "code",
   "execution_count": 69,
   "id": "54e61795",
   "metadata": {},
   "outputs": [
    {
     "name": "stdout",
     "output_type": "stream",
     "text": [
      "[7, 4, 8, 3, 6, 3, 4, 3, 4, 7, 5, 4]\n"
     ]
    }
   ],
   "source": [
    "array = np.array([[7, 4, 8, 3],\n",
    "                [6, 3, 4, 3],\n",
    "                [4, 7, 5, 4]])\n",
    "operaciones(array)\n"
   ]
  }
 ],
 "metadata": {
  "kernelspec": {
   "display_name": "Python 3",
   "language": "python",
   "name": "python3"
  },
  "language_info": {
   "codemirror_mode": {
    "name": "ipython",
    "version": 3
   },
   "file_extension": ".py",
   "mimetype": "text/x-python",
   "name": "python",
   "nbconvert_exporter": "python",
   "pygments_lexer": "ipython3",
   "version": "3.10.7"
  }
 },
 "nbformat": 4,
 "nbformat_minor": 5
}
